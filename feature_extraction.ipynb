{
 "cells": [
  {
   "cell_type": "code",
   "execution_count": null,
   "metadata": {},
   "outputs": [],
   "source": [
    "import tensorflow as tf\n",
    "import keras as K\n",
    "from keras._tf_keras.keras.applications.resnet50 import ResNet50, preprocess_input\n",
    "from keras._tf_keras.keras.layers import GlobalMaxPooling2D, MaxPooling2D\n",
    "import dask, distributed\n",
    "\n",
    "import cv2,os,pickle\n",
    "import numpy as np\n",
    "from tqdm.auto import tqdm\n",
    "from dataclasses import dataclass, Field\n",
    "os.environ['TF_CPP_MIN_LOG_LEVEL'] = '3'"
   ]
  },
  {
   "cell_type": "code",
   "execution_count": 3,
   "metadata": {},
   "outputs": [],
   "source": [
    "model = ResNet50(include_top=False, weights='imagenet', input_shape=(224,224,3))\n",
    "model.trainable = False # as the resnet model is already trained on another dataset"
   ]
  },
  {
   "cell_type": "code",
   "execution_count": 4,
   "metadata": {},
   "outputs": [
    {
     "data": {
      "text/html": [
       "<pre style=\"white-space:pre;overflow-x:auto;line-height:normal;font-family:Menlo,'DejaVu Sans Mono',consolas,'Courier New',monospace\"><span style=\"font-weight: bold\">Model: \"sequential\"</span>\n",
       "</pre>\n"
      ],
      "text/plain": [
       "\u001b[1mModel: \"sequential\"\u001b[0m\n"
      ]
     },
     "metadata": {},
     "output_type": "display_data"
    },
    {
     "data": {
      "text/html": [
       "<pre style=\"white-space:pre;overflow-x:auto;line-height:normal;font-family:Menlo,'DejaVu Sans Mono',consolas,'Courier New',monospace\">┏━━━━━━━━━━━━━━━━━━━━━━━━━━━━━━━━━┳━━━━━━━━━━━━━━━━━━━━━━━━┳━━━━━━━━━━━━━━━┓\n",
       "┃<span style=\"font-weight: bold\"> Layer (type)                    </span>┃<span style=\"font-weight: bold\"> Output Shape           </span>┃<span style=\"font-weight: bold\">       Param # </span>┃\n",
       "┡━━━━━━━━━━━━━━━━━━━━━━━━━━━━━━━━━╇━━━━━━━━━━━━━━━━━━━━━━━━╇━━━━━━━━━━━━━━━┩\n",
       "│ resnet50 (<span style=\"color: #0087ff; text-decoration-color: #0087ff\">Functional</span>)           │ (<span style=\"color: #00d7ff; text-decoration-color: #00d7ff\">None</span>, <span style=\"color: #00af00; text-decoration-color: #00af00\">7</span>, <span style=\"color: #00af00; text-decoration-color: #00af00\">7</span>, <span style=\"color: #00af00; text-decoration-color: #00af00\">2048</span>)     │    <span style=\"color: #00af00; text-decoration-color: #00af00\">23,587,712</span> │\n",
       "├─────────────────────────────────┼────────────────────────┼───────────────┤\n",
       "│ global_max_pooling2d            │ (<span style=\"color: #00d7ff; text-decoration-color: #00d7ff\">None</span>, <span style=\"color: #00af00; text-decoration-color: #00af00\">2048</span>)           │             <span style=\"color: #00af00; text-decoration-color: #00af00\">0</span> │\n",
       "│ (<span style=\"color: #0087ff; text-decoration-color: #0087ff\">GlobalMaxPooling2D</span>)            │                        │               │\n",
       "└─────────────────────────────────┴────────────────────────┴───────────────┘\n",
       "</pre>\n"
      ],
      "text/plain": [
       "┏━━━━━━━━━━━━━━━━━━━━━━━━━━━━━━━━━┳━━━━━━━━━━━━━━━━━━━━━━━━┳━━━━━━━━━━━━━━━┓\n",
       "┃\u001b[1m \u001b[0m\u001b[1mLayer (type)                   \u001b[0m\u001b[1m \u001b[0m┃\u001b[1m \u001b[0m\u001b[1mOutput Shape          \u001b[0m\u001b[1m \u001b[0m┃\u001b[1m \u001b[0m\u001b[1m      Param #\u001b[0m\u001b[1m \u001b[0m┃\n",
       "┡━━━━━━━━━━━━━━━━━━━━━━━━━━━━━━━━━╇━━━━━━━━━━━━━━━━━━━━━━━━╇━━━━━━━━━━━━━━━┩\n",
       "│ resnet50 (\u001b[38;5;33mFunctional\u001b[0m)           │ (\u001b[38;5;45mNone\u001b[0m, \u001b[38;5;34m7\u001b[0m, \u001b[38;5;34m7\u001b[0m, \u001b[38;5;34m2048\u001b[0m)     │    \u001b[38;5;34m23,587,712\u001b[0m │\n",
       "├─────────────────────────────────┼────────────────────────┼───────────────┤\n",
       "│ global_max_pooling2d            │ (\u001b[38;5;45mNone\u001b[0m, \u001b[38;5;34m2048\u001b[0m)           │             \u001b[38;5;34m0\u001b[0m │\n",
       "│ (\u001b[38;5;33mGlobalMaxPooling2D\u001b[0m)            │                        │               │\n",
       "└─────────────────────────────────┴────────────────────────┴───────────────┘\n"
      ]
     },
     "metadata": {},
     "output_type": "display_data"
    },
    {
     "data": {
      "text/html": [
       "<pre style=\"white-space:pre;overflow-x:auto;line-height:normal;font-family:Menlo,'DejaVu Sans Mono',consolas,'Courier New',monospace\"><span style=\"font-weight: bold\"> Total params: </span><span style=\"color: #00af00; text-decoration-color: #00af00\">23,587,712</span> (89.98 MB)\n",
       "</pre>\n"
      ],
      "text/plain": [
       "\u001b[1m Total params: \u001b[0m\u001b[38;5;34m23,587,712\u001b[0m (89.98 MB)\n"
      ]
     },
     "metadata": {},
     "output_type": "display_data"
    },
    {
     "data": {
      "text/html": [
       "<pre style=\"white-space:pre;overflow-x:auto;line-height:normal;font-family:Menlo,'DejaVu Sans Mono',consolas,'Courier New',monospace\"><span style=\"font-weight: bold\"> Trainable params: </span><span style=\"color: #00af00; text-decoration-color: #00af00\">0</span> (0.00 B)\n",
       "</pre>\n"
      ],
      "text/plain": [
       "\u001b[1m Trainable params: \u001b[0m\u001b[38;5;34m0\u001b[0m (0.00 B)\n"
      ]
     },
     "metadata": {},
     "output_type": "display_data"
    },
    {
     "data": {
      "text/html": [
       "<pre style=\"white-space:pre;overflow-x:auto;line-height:normal;font-family:Menlo,'DejaVu Sans Mono',consolas,'Courier New',monospace\"><span style=\"font-weight: bold\"> Non-trainable params: </span><span style=\"color: #00af00; text-decoration-color: #00af00\">23,587,712</span> (89.98 MB)\n",
       "</pre>\n"
      ],
      "text/plain": [
       "\u001b[1m Non-trainable params: \u001b[0m\u001b[38;5;34m23,587,712\u001b[0m (89.98 MB)\n"
      ]
     },
     "metadata": {},
     "output_type": "display_data"
    }
   ],
   "source": [
    "#model.summary()\n",
    "model = K.Sequential([\n",
    "    model, \n",
    "    GlobalMaxPooling2D() # using MaxPooling2D will return 3x3x2048, using GlobalMaxPooling2D would return a vector of 2048\n",
    "])\n",
    "model.summary()"
   ]
  },
  {
   "cell_type": "code",
   "execution_count": null,
   "metadata": {},
   "outputs": [],
   "source": [
    "image_path = 'dataset\\41992.jpg'\n",
    "img = cv2.imread(image_path)\n",
    "img = cv2.resize(src=img,dsize=(224,224)) # reshape it to 224x224x3\n",
    "# cv2.imshow(\"Frame\",img)\n",
    "# cv2.waitKey(0)\n",
    "# cv2.destroyAllWindows()"
   ]
  },
  {
   "cell_type": "code",
   "execution_count": null,
   "metadata": {},
   "outputs": [
    {
     "data": {
      "text/plain": [
       "os.PathLike"
      ]
     },
     "execution_count": 30,
     "metadata": {},
     "output_type": "execute_result"
    }
   ],
   "source": [
    "os.path.split(r'dataset\\41992.jpg')"
   ]
  },
  {
   "cell_type": "code",
   "execution_count": 6,
   "metadata": {},
   "outputs": [],
   "source": [
    "# convert image to numpy array\n",
    "img = np.asarray(img)"
   ]
  },
  {
   "cell_type": "code",
   "execution_count": 7,
   "metadata": {},
   "outputs": [
    {
     "name": "stdout",
     "output_type": "stream",
     "text": [
      "original shape: (224, 224, 3)\n"
     ]
    }
   ],
   "source": [
    "print('original shape:',img.shape)"
   ]
  },
  {
   "cell_type": "code",
   "execution_count": 8,
   "metadata": {},
   "outputs": [
    {
     "name": "stdout",
     "output_type": "stream",
     "text": [
      "expanded shape: (1, 224, 224, 3)\n"
     ]
    }
   ],
   "source": [
    "expanded_img = np.expand_dims(img, axis=0)\n",
    "print('expanded shape:',expanded_img.shape)\n",
    "# 1-> refers to 1 image, which means to process batch we would need to preprocess the bacth"
   ]
  },
  {
   "cell_type": "code",
   "execution_count": 9,
   "metadata": {},
   "outputs": [],
   "source": [
    "preprocessed_img = preprocess_input(expanded_img)"
   ]
  },
  {
   "cell_type": "code",
   "execution_count": 10,
   "metadata": {},
   "outputs": [
    {
     "name": "stdout",
     "output_type": "stream",
     "text": [
      "\u001b[1m1/1\u001b[0m \u001b[32m━━━━━━━━━━━━━━━━━━━━\u001b[0m\u001b[37m\u001b[0m \u001b[1m3s\u001b[0m 3s/step\n"
     ]
    }
   ],
   "source": [
    "result = model.predict(preprocessed_img)"
   ]
  },
  {
   "cell_type": "code",
   "execution_count": 11,
   "metadata": {},
   "outputs": [
    {
     "data": {
      "text/plain": [
       "(2048,)"
      ]
     },
     "execution_count": 11,
     "metadata": {},
     "output_type": "execute_result"
    }
   ],
   "source": [
    "result.flatten().shape # flatten the output"
   ]
  },
  {
   "cell_type": "code",
   "execution_count": 14,
   "metadata": {},
   "outputs": [],
   "source": [
    "# now normalize the result\n",
    "normalized_result = (result.flatten()) / (np.linalg.norm(x = result.flatten()))"
   ]
  },
  {
   "cell_type": "code",
   "execution_count": 16,
   "metadata": {},
   "outputs": [
    {
     "data": {
      "text/plain": [
       "array([0.02591854, 0.05526206, 0.00061338, ..., 0.        , 0.01322317,\n",
       "       0.01222626], dtype=float32)"
      ]
     },
     "execution_count": 16,
     "metadata": {},
     "output_type": "execute_result"
    }
   ],
   "source": [
    "normalized_result"
   ]
  },
  {
   "cell_type": "code",
   "execution_count": null,
   "metadata": {},
   "outputs": [],
   "source": [
    "@dataclass\n",
    "class Feature_Extraction:\n",
    "    '''\n",
    "    functions: extract_feature(s.method), extract_feature_from_folder(method), save_(s.method)\n",
    "\n",
    "    The extract_feature_from_folder method uses dask.delayed for parallel computation.\n",
    "    '''\n",
    "    model:K.Model\n",
    "    folder:os.path.dirname\n",
    "\n",
    "    @staticmethod\n",
    "    def extract_feature(img_path:os.path, model:ResNet50)->np.array:\n",
    "        # Load the image\n",
    "        img = cv2.imread(img_path) \n",
    "        # Resize the image to 224 x 224 x 3; 3 being the channel\n",
    "        img = cv2.resize(img,dsize=(224,224))\n",
    "        # Expand the image\n",
    "        img = np.expand_dims(a=img, axis=0)\n",
    "        # Preprocess the image\n",
    "        img = preprocess_input(img)\n",
    "        # Predict the image\n",
    "        img = model.predict(img, verbose='3')\n",
    "        # Flatten the output from 1,2048 to 2048\n",
    "        img = img.flatten()\n",
    "        # Normalize the output\n",
    "        img = img / np.linalg.norm(img)\n",
    "        \n",
    "        return img\n",
    "\n",
    "    def extract_feature_from_folder(self):\n",
    "        feature_list =[]\n",
    "        # get all image_paths in the provided folder\n",
    "        filenames = [ os.path.join(self.folder, filename) for filename in tqdm(os.listdir(self.folder),desc='Appending files') ]\n",
    "        # extract features\n",
    "        feature_list = [ dask.delayed(self.extract_feature) (file_path, self.model) for file_path in tqdm(filenames, desc= 'Generating and appending features') if file_path.endswith('.jpg')  ]\n",
    "        # return tuple of feature_list, filenames\n",
    "        features = dask.compute(*feature_list, scheduler='threads')\n",
    "        return features, filenames\n",
    "    \n",
    "    @staticmethod\n",
    "    def save_(model:K.Model, features_list:list, filenames:list)->None:\n",
    "        try:\n",
    "            # creates checkpoint if not exists\n",
    "            if not os.path.exists('checkpoint'):\n",
    "                os.makedirs('checkpoint')\n",
    "            # save model\n",
    "            model.save('checkpoint/model.keras')\n",
    "\n",
    "            # pickle the features_list, filenames\n",
    "            with open('checkpoint/featurevectors.pkl','wb') as file:\n",
    "                pickle.dump(features_list, file=file, protocol=pickle.HIGHEST_PROTOCOL)\n",
    "\n",
    "            with open('checkpoint/image_paths.pkl','wb') as file:\n",
    "                pickle.dump(filenames, file=file, protocol=pickle.HIGHEST_PROTOCOL)\n",
    "        except Exception:\n",
    "            raise\n"
   ]
  },
  {
   "cell_type": "code",
   "execution_count": 110,
   "metadata": {},
   "outputs": [],
   "source": [
    "fe = Feature_Extraction(model=model, folder='dataset')"
   ]
  },
  {
   "cell_type": "code",
   "execution_count": 104,
   "metadata": {},
   "outputs": [
    {
     "name": "stderr",
     "output_type": "stream",
     "text": [
      "Appending files: 100%|██████████| 2907/2907 [00:00<00:00, 356005.77it/s]\n",
      "Generating and appending features: 100%|██████████| 2907/2907 [00:00<00:00, 5974.67it/s]\n"
     ]
    }
   ],
   "source": [
    "feature_list, filenames = fe.extract_feature_from_folder()"
   ]
  },
  {
   "cell_type": "code",
   "execution_count": 111,
   "metadata": {},
   "outputs": [],
   "source": [
    "fe.save_(model=model, filenames=filenames, features_list=feature_list)"
   ]
  }
 ],
 "metadata": {
  "kernelspec": {
   "display_name": "Python 3",
   "language": "python",
   "name": "python3"
  },
  "language_info": {
   "codemirror_mode": {
    "name": "ipython",
    "version": 3
   },
   "file_extension": ".py",
   "mimetype": "text/x-python",
   "name": "python",
   "nbconvert_exporter": "python",
   "pygments_lexer": "ipython3",
   "version": "3.11.9"
  }
 },
 "nbformat": 4,
 "nbformat_minor": 2
}
